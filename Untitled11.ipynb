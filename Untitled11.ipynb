{
  "nbformat": 4,
  "nbformat_minor": 0,
  "metadata": {
    "colab": {
      "name": "Untitled11.ipynb",
      "provenance": [],
      "include_colab_link": true
    },
    "kernelspec": {
      "name": "python3",
      "display_name": "Python 3"
    },
    "accelerator": "GPU"
  },
  "cells": [
    {
      "cell_type": "markdown",
      "metadata": {
        "id": "view-in-github",
        "colab_type": "text"
      },
      "source": [
        "<a href=\"https://colab.research.google.com/github/utkarsh1508/DeepGlobe-Road-Extraction-Challenge/blob/master/Untitled11.ipynb\" target=\"_parent\"><img src=\"https://colab.research.google.com/assets/colab-badge.svg\" alt=\"Open In Colab\"/></a>"
      ]
    },
    {
      "cell_type": "code",
      "metadata": {
        "id": "bLq-J42GN56S",
        "colab_type": "code",
        "colab": {
          "base_uri": "https://localhost:8080/",
          "height": 125
        },
        "outputId": "4bb65494-300c-49b2-a5aa-2834b8a1d51f"
      },
      "source": [
        "from google.colab import drive\n",
        "drive.mount('/content/gdrive')"
      ],
      "execution_count": 1,
      "outputs": [
        {
          "output_type": "stream",
          "text": [
            "Go to this URL in a browser: https://accounts.google.com/o/oauth2/auth?client_id=947318989803-6bn6qk8qdgf4n4g3pfee6491hc0brc4i.apps.googleusercontent.com&redirect_uri=urn%3Aietf%3Awg%3Aoauth%3A2.0%3Aoob&scope=email%20https%3A%2F%2Fwww.googleapis.com%2Fauth%2Fdocs.test%20https%3A%2F%2Fwww.googleapis.com%2Fauth%2Fdrive%20https%3A%2F%2Fwww.googleapis.com%2Fauth%2Fdrive.photos.readonly%20https%3A%2F%2Fwww.googleapis.com%2Fauth%2Fpeopleapi.readonly&response_type=code\n",
            "\n",
            "Enter your authorization code:\n",
            "··········\n",
            "Mounted at /content/gdrive\n"
          ],
          "name": "stdout"
        }
      ]
    },
    {
      "cell_type": "code",
      "metadata": {
        "id": "Pb8teP-5j_AR",
        "colab_type": "code",
        "colab": {
          "base_uri": "https://localhost:8080/",
          "height": 123
        },
        "outputId": "8b56f87c-cb87-407b-f33b-dbcb865813a5"
      },
      "source": [
        "!git clone https://github.com/utkarsh1508/DeepGlobe-Road-Extraction-Challenge.git"
      ],
      "execution_count": 2,
      "outputs": [
        {
          "output_type": "stream",
          "text": [
            "Cloning into 'DeepGlobe-Road-Extraction-Challenge'...\n",
            "remote: Enumerating objects: 3, done.\u001b[K\n",
            "remote: Counting objects: 100% (3/3), done.\u001b[K\n",
            "remote: Compressing objects: 100% (3/3), done.\u001b[K\n",
            "remote: Total 38 (delta 0), reused 0 (delta 0), pack-reused 35\u001b[K\n",
            "Unpacking objects: 100% (38/38), done.\n"
          ],
          "name": "stdout"
        }
      ]
    },
    {
      "cell_type": "code",
      "metadata": {
        "id": "uH6kwDALNuoT",
        "colab_type": "code",
        "colab": {
          "base_uri": "https://localhost:8080/",
          "height": 34
        },
        "outputId": "c277dd01-e88c-49ad-95b0-87bc657080d7"
      },
      "source": [
        "%cd /content/gdrive/My\\ Drive/Dataset"
      ],
      "execution_count": 3,
      "outputs": [
        {
          "output_type": "stream",
          "text": [
            "/content/gdrive/My Drive/Dataset\n"
          ],
          "name": "stdout"
        }
      ]
    },
    {
      "cell_type": "code",
      "metadata": {
        "id": "lEMdtWPOINLm",
        "colab_type": "code",
        "colab": {}
      },
      "source": [
        "!cp road-train-1.v2.zip /content/DeepGlobe-Road-Extraction-Challenge/dataset/train.zip\n",
        "# !cp road-train-2+valid.v2.zip  /content/DeepGlobe-Road-Extraction-Challenge/dataset/valid.zip\n",
        "# !cp road_test_sat.zip /content/DeepGlobe-Road-Extraction-Challenge/dataset/test.zip"
      ],
      "execution_count": 0,
      "outputs": []
    },
    {
      "cell_type": "code",
      "metadata": {
        "id": "AC7zovqHQ4se",
        "colab_type": "code",
        "outputId": "f06cdeae-ebae-43d2-9401-71e3454e8669",
        "colab": {
          "base_uri": "https://localhost:8080/",
          "height": 34
        }
      },
      "source": [
        "%cd /content/DeepGlobe-Road-Extraction-Challenge/dataset/"
      ],
      "execution_count": 5,
      "outputs": [
        {
          "output_type": "stream",
          "text": [
            "/content/DeepGlobe-Road-Extraction-Challenge/dataset\n"
          ],
          "name": "stdout"
        }
      ]
    },
    {
      "cell_type": "code",
      "metadata": {
        "id": "sDI-VXnMSxpn",
        "colab_type": "code",
        "colab": {}
      },
      "source": [
        "!unzip -q train.zip\n",
        "# !unzip -qd test test.zip \n",
        "# !unzip -q valid valid.zip"
      ],
      "execution_count": 0,
      "outputs": []
    },
    {
      "cell_type": "code",
      "metadata": {
        "id": "p4gyA36cW-CM",
        "colab_type": "code",
        "outputId": "de091696-e0cf-4fdf-f8aa-f539df9bed1b",
        "colab": {
          "base_uri": "https://localhost:8080/",
          "height": 34
        }
      },
      "source": [
        "%cd /content/DeepGlobe-Road-Extraction-Challenge/"
      ],
      "execution_count": 7,
      "outputs": [
        {
          "output_type": "stream",
          "text": [
            "/content/DeepGlobe-Road-Extraction-Challenge\n"
          ],
          "name": "stdout"
        }
      ]
    },
    {
      "cell_type": "code",
      "metadata": {
        "id": "SY7YYYUdXcWb",
        "colab_type": "code",
        "outputId": "8cd37e00-62a6-464a-db2c-364a45afc781",
        "colab": {
          "base_uri": "https://localhost:8080/",
          "height": 188
        }
      },
      "source": [
        "!python2 train.py"
      ],
      "execution_count": 0,
      "outputs": [
        {
          "output_type": "stream",
          "text": [
            "Downloading: \"https://download.pytorch.org/models/resnet34-333f7ec4.pth\" to /root/.cache/torch/checkpoints/resnet34-333f7ec4.pth\n",
            "100% 83.3M/83.3M [00:00<00:00, 114MB/s]\n",
            "/usr/local/lib/python2.7/dist-packages/torch/nn/functional.py:1350: UserWarning: nn.functional.sigmoid is deprecated. Use torch.sigmoid instead.\n",
            "  warnings.warn(\"nn.functional.sigmoid is deprecated. Use torch.sigmoid instead.\")\n",
            "********\n",
            "epoch: 1     time: 2195\n",
            "train_loss: tensor(0.5730, device='cuda:0')\n",
            "SHAPE: (1024, 1024)\n"
          ],
          "name": "stdout"
        }
      ]
    }
  ]
}